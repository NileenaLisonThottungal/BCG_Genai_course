{
 "cells": [
  {
   "cell_type": "code",
   "execution_count": 1,
   "id": "3673fdcb-a3aa-410a-b533-7db656b24e54",
   "metadata": {},
   "outputs": [],
   "source": [
    "import pandas as pd\n"
   ]
  },
  {
   "cell_type": "code",
   "execution_count": 4,
   "id": "99e7a0ad-147f-4d7e-af5a-dfea59b58a53",
   "metadata": {},
   "outputs": [
    {
     "name": "stdout",
     "output_type": "stream",
     "text": [
      "     Company  Fiscal Year  Total Revenue  Net Income  Total Assets  \\\n",
      "0  Microsoft         2024         245122       88136        512163   \n",
      "1  Microsoft         2023         211915       72361        411976   \n",
      "2  Microsoft         2022         198270       72738        364840   \n",
      "3      Tesla         2024          97690        7090        105000   \n",
      "4      Tesla         2023          96773       14181         94000   \n",
      "5      Tesla         2022          81462       12556         82000   \n",
      "6      Apple         2024         391035       97000        384000   \n",
      "7      Apple         2023         383285       94680        352755   \n",
      "8      Apple         2022         394328       99803        351002   \n",
      "\n",
      "   Total Liabilities  Cash Flow from Operating Activities  Revenue Growth (%)  \\\n",
      "0             243686                               118500                 NaN   \n",
      "1             205753                                87500          -13.547132   \n",
      "2             198298                                89000           -6.438902   \n",
      "3              40000                                13000                 NaN   \n",
      "4              35000                                14700           -0.938684   \n",
      "5              31000                                14700          -15.821562   \n",
      "6             284000                               110000                 NaN   \n",
      "7             267000                               105000           -1.981920   \n",
      "8             283000                               122000            2.881146   \n",
      "\n",
      "   Net Income Growth (%)  \n",
      "0                    NaN  \n",
      "1             -17.898475  \n",
      "2               0.520999  \n",
      "3                    NaN  \n",
      "4             100.014104  \n",
      "5             -11.458994  \n",
      "6                    NaN  \n",
      "7              -2.391753  \n",
      "8               5.410858  \n"
     ]
    }
   ],
   "source": [
    "import pandas as pd\n",
    "\n",
    "# Load your data\n",
    "df = pd.read_excel(\"BCG.xlsx\")\n",
    "\n",
    "# Convert Fiscal Year to int (if not already)\n",
    "df['Fiscal Year'] = df['Fiscal Year'].astype(int)\n",
    "\n",
    "# Calculate YoY Growth\n",
    "df['Revenue Growth (%)'] = df.groupby('Company')['Total Revenue'].pct_change() * 100\n",
    "df['Net Income Growth (%)'] = df.groupby('Company')['Net Income'].pct_change() * 100\n",
    "\n",
    "# Preview\n",
    "print(df)\n"
   ]
  },
  {
   "cell_type": "code",
   "execution_count": null,
   "id": "6f1f9b77-4d95-4f92-b416-3c659e73026d",
   "metadata": {},
   "outputs": [],
   "source": []
  },
  {
   "cell_type": "code",
   "execution_count": null,
   "id": "dea1fb07-85c1-4f6d-a672-ef84fd89856a",
   "metadata": {},
   "outputs": [],
   "source": []
  }
 ],
 "metadata": {
  "kernelspec": {
   "display_name": "Python 3 (ipykernel)",
   "language": "python",
   "name": "python3"
  },
  "language_info": {
   "codemirror_mode": {
    "name": "ipython",
    "version": 3
   },
   "file_extension": ".py",
   "mimetype": "text/x-python",
   "name": "python",
   "nbconvert_exporter": "python",
   "pygments_lexer": "ipython3",
   "version": "3.12.4"
  }
 },
 "nbformat": 4,
 "nbformat_minor": 5
}
